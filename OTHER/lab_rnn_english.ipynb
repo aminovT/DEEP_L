{
 "cells": [
  {
   "cell_type": "markdown",
   "metadata": {},
   "source": [
    "# Seminar on recurrent neural networks\n",
    "During this seminar, we will train LSTM to solve sentiment analysis task, i. e. predict sentiment label for the text.\n",
    "\n",
    "The recurrent neural networks work with the input of arbitrary length. However, in the implementation, it is usually much simpler to fix the sequence length (even in pytorch with its dynamic graphs :) So we will crop the sequences so that they have fixed length.\n",
    "\n",
    "During completing this task, you will train LSTM with different level of \"black box\" (from using torch.nn.LSTM to implementing layer yourself). Also, you will learn different ways of applying dropout to the gated RNNs (in the RNNs there are more places where to insert binary dropout mask than in feed-forward networks).\n",
    "\n",
    "The task can be completed on CPU but you will feel more comfortable with GPU. You may try using [https://colab.research.google.com](https://colab.research.google.com)."
   ]
  },
  {
   "cell_type": "markdown",
   "metadata": {},
   "source": [
    "### Hyperparameters"
   ]
  },
  {
   "cell_type": "code",
   "execution_count": 1,
   "metadata": {},
   "outputs": [],
   "source": [
    "vocab_size = 20000 \n",
    "index_from = 3\n",
    "n_hidden = 32 # 128\n",
    "n_emb = 32 # 128\n",
    "seq_len = 32 # 200\n",
    "# small network on small data for seminar purposes\n",
    "# after # normal size goes\n",
    "\n",
    "batch_size = 128\n",
    "learning_rate = 0.001\n",
    "num_epochs = 30"
   ]
  },
  {
   "cell_type": "markdown",
   "metadata": {},
   "source": [
    "### Data loading\n",
    "Function load_matrix_imdb downloads data, preprocesses it and returns numpy-arrays. \n",
    "\n",
    "If you don't have wget, please download [archive imdb.npz](https://s3.amazonaws.com/text-datasets/imdb.npz)"
   ]
  },
  {
   "cell_type": "code",
   "execution_count": 2,
   "metadata": {},
   "outputs": [],
   "source": [
    "#from rnn_utils import load_matrix_imdb\n",
    "import numpy as np\n",
    "import torch\n",
    "import torch.utils.data\n",
    "import os\n",
    "import re\n",
    "from collections import defaultdict\n",
    "import operator"
   ]
  },
  {
   "cell_type": "code",
   "execution_count": 8,
   "metadata": {},
   "outputs": [],
   "source": [
    "def load_matrix_imdb(path='imdb.npz', num_words=None, skip_top=0,\n",
    "              maxlen=None, seed=113,\n",
    "              start_char=1, oov_char=2, index_from=3, **kwargs):\n",
    "    \"\"\"\n",
    "    Modified code from Keras\n",
    "    Loads data matrixes from npz file, crops and pads seqs and returns\n",
    "    shuffled (x_train, y_train), (x_test, y_test)\n",
    "    \"\"\"\n",
    "    if not os.path.exists(path):\n",
    "        print(\"Downloading matrix data into current folder\")\n",
    "        os.system(\"wget https://s3.amazonaws.com/text-datasets/imdb.npz\")\n",
    "        \n",
    "    with np.load(path, allow_pickle=True) as f:\n",
    "        x_train, labels_train = f['x_train'], f['y_train']\n",
    "        x_test, labels_test = f['x_test'], f['y_test']\n",
    "\n",
    "    np.random.seed(seed)\n",
    "    indices = np.arange(len(x_train))\n",
    "    np.random.shuffle(indices)\n",
    "    x_train = x_train[indices]\n",
    "    labels_train = labels_train[indices]\n",
    "\n",
    "    indices = np.arange(len(x_test))\n",
    "    np.random.shuffle(indices)\n",
    "    x_test = x_test[indices]\n",
    "    labels_test = labels_test[indices]\n",
    "\n",
    "    xs = np.concatenate([x_train, x_test])\n",
    "    labels = np.concatenate([labels_train, labels_test])\n",
    "\n",
    "    if start_char is not None:\n",
    "        xs = [[start_char] + [w + index_from for w in x] for x in xs]\n",
    "    elif index_from:\n",
    "        xs = [[w + index_from for w in x] for x in xs]\n",
    "\n",
    "    if not num_words:\n",
    "        num_words = max([max(x) for x in xs])\n",
    "    if not maxlen:\n",
    "        maxlen = max([len(x) for x in xs])\n",
    "\n",
    "    # by convention, use 2 as OOV word\n",
    "    # reserve 'index_from' (=3 by default) characters:\n",
    "    # 0 (padding), 1 (start), 2 (OOV)\n",
    "    xs_new = []\n",
    "    for x in xs:\n",
    "        x = x[:maxlen] # crop long sequences\n",
    "        if oov_char is not None: # replace rare or frequent symbols \n",
    "            x = [w if (skip_top <= w < num_words) else oov_char for w in x]\n",
    "        else: # or filter rare and frequent symbols\n",
    "            x = [w for w in x if skip_top <= w < num_words]\n",
    "        x_padded = np.zeros(maxlen)#, dtype = 'int32')\n",
    "        x_padded[-len(x):] = x\n",
    "        xs_new.append(x_padded)    \n",
    "            \n",
    "    idx = len(x_train)\n",
    "    x_train, y_train = np.array(xs_new[:idx]), np.array(labels[:idx])\n",
    "    x_test, y_test = np.array(xs_new[idx:]), np.array(labels[idx:])\n",
    "\n",
    "    return (x_train, y_train), (x_test, y_test)"
   ]
  },
  {
   "cell_type": "code",
   "execution_count": 9,
   "metadata": {},
   "outputs": [],
   "source": [
    "np.random.seed(0)\n",
    "(X_train, y_train), (X_test, y_test) = load_matrix_imdb(num_words=vocab_size,\n",
    "                                                        maxlen=seq_len)"
   ]
  },
  {
   "cell_type": "code",
   "execution_count": 10,
   "metadata": {},
   "outputs": [
    {
     "data": {
      "text/plain": [
       "{0, 1}"
      ]
     },
     "execution_count": 10,
     "metadata": {},
     "output_type": "execute_result"
    }
   ],
   "source": [
    "set(y_train) # binary classification"
   ]
  },
  {
   "cell_type": "code",
   "execution_count": 11,
   "metadata": {},
   "outputs": [
    {
     "data": {
      "text/plain": [
       "((25000, 32), (25000, 32))"
      ]
     },
     "execution_count": 11,
     "metadata": {},
     "output_type": "execute_result"
    }
   ],
   "source": [
    "X_train.shape, X_test.shape"
   ]
  },
  {
   "cell_type": "code",
   "execution_count": 12,
   "metadata": {},
   "outputs": [
    {
     "data": {
      "text/plain": [
       "array([  1.00000000e+00,   1.40000000e+01,   2.20000000e+01,\n",
       "         1.60000000e+01,   4.30000000e+01,   5.30000000e+02,\n",
       "         9.73000000e+02,   1.62200000e+03,   1.38500000e+03,\n",
       "         6.50000000e+01,   4.58000000e+02,   4.46800000e+03,\n",
       "         6.60000000e+01,   3.94100000e+03,   4.00000000e+00,\n",
       "         1.73000000e+02,   3.60000000e+01,   2.56000000e+02,\n",
       "         5.00000000e+00,   2.50000000e+01,   1.00000000e+02,\n",
       "         4.30000000e+01,   8.38000000e+02,   1.12000000e+02,\n",
       "         5.00000000e+01,   6.70000000e+02,   2.00000000e+00,\n",
       "         9.00000000e+00,   3.50000000e+01,   4.80000000e+02,\n",
       "         2.84000000e+02,   5.00000000e+00])"
      ]
     },
     "execution_count": 12,
     "metadata": {},
     "output_type": "execute_result"
    }
   ],
   "source": [
    "X_train[0] # sequence of coded words"
   ]
  },
  {
   "cell_type": "code",
   "execution_count": 13,
   "metadata": {},
   "outputs": [
    {
     "data": {
      "text/plain": [
       "array([1, 0, 0, ..., 0, 1, 0], dtype=int64)"
      ]
     },
     "execution_count": 13,
     "metadata": {},
     "output_type": "execute_result"
    }
   ],
   "source": [
    "y_train"
   ]
  },
  {
   "cell_type": "code",
   "execution_count": 14,
   "metadata": {},
   "outputs": [],
   "source": [
    "train_dset = torch.utils.data.TensorDataset(torch.tensor(X_train, dtype=torch.long), \n",
    "                               torch.tensor(y_train, dtype=torch.long))"
   ]
  },
  {
   "cell_type": "code",
   "execution_count": 15,
   "metadata": {},
   "outputs": [],
   "source": [
    "test_dset = torch.utils.data.TensorDataset(torch.tensor(X_test, dtype=torch.long), \n",
    "                               torch.tensor(y_test, dtype=torch.long))"
   ]
  },
  {
   "cell_type": "code",
   "execution_count": 16,
   "metadata": {},
   "outputs": [],
   "source": [
    "train_loader = torch.utils.data.DataLoader(train_dset,\n",
    "                          batch_size=batch_size,\n",
    "                          shuffle=True,\n",
    "                          num_workers=4\n",
    "                         )"
   ]
  },
  {
   "cell_type": "code",
   "execution_count": 17,
   "metadata": {},
   "outputs": [],
   "source": [
    "test_loader = torch.utils.data.DataLoader(test_dset,\n",
    "                          batch_size=batch_size,\n",
    "                          shuffle=True,\n",
    "                          num_workers=4\n",
    "                         )"
   ]
  },
  {
   "cell_type": "markdown",
   "metadata": {},
   "source": [
    "### Definind and training RNN in pytroch"
   ]
  },
  {
   "cell_type": "code",
   "execution_count": 18,
   "metadata": {},
   "outputs": [],
   "source": [
    "import os\n",
    "import torch.optim as optim\n",
    "import torch.nn as nn"
   ]
  },
  {
   "cell_type": "code",
   "execution_count": 19,
   "metadata": {},
   "outputs": [],
   "source": [
    "device = torch.device(\"cuda\" if torch.cuda.is_available() else \"cpu\")"
   ]
  },
  {
   "cell_type": "code",
   "execution_count": 20,
   "metadata": {},
   "outputs": [
    {
     "data": {
      "text/plain": [
       "device(type='cuda')"
      ]
     },
     "execution_count": 20,
     "metadata": {},
     "output_type": "execute_result"
    }
   ],
   "source": [
    "device"
   ]
  },
  {
   "cell_type": "markdown",
   "metadata": {},
   "source": [
    "Our RNN will process the input sequence by words (word level). We will use simple architecture consisting of embedding layer, 1 LSTM layer and fully-connected layer on the last hidden state.\n",
    "\n",
    "The code below defines and trains the network. __Pay attention__ to \"### pay attention here\" marks: they point to RNN specifics.\n",
    "\n",
    "Run this code so that you can compare training time with different models and implementations later."
   ]
  },
  {
   "cell_type": "code",
   "execution_count": 21,
   "metadata": {},
   "outputs": [],
   "source": [
    "class RNNClassifier(nn.Module):\n",
    "    def __init__(self, embedding_dim, hidden_dim, vocab_size, label_size, \\\n",
    "                 batch_size, rec_layer=nn.LSTM, embedding=nn.Embedding, \\\n",
    "                 dropout=None):\n",
    "        super(RNNClassifier, self).__init__()\n",
    "        self.hidden_dim = hidden_dim\n",
    "        self.batch_size = batch_size\n",
    "\n",
    "        self.word_embeddings = embedding(vocab_size, embedding_dim)\n",
    "        if dropout:\n",
    "            self.rnn = rec_layer(embedding_dim, hidden_dim, dropout=dropout)\n",
    "        else:\n",
    "            self.rnn = rec_layer(embedding_dim, hidden_dim)\n",
    "        self.hidden2label = nn.Linear(hidden_dim, label_size)\n",
    "    \n",
    "    def forward(self, sentences):\n",
    "        embedding = self.word_embeddings(sentences)\n",
    "        out, hidden = self.rnn(embedding) # pay attention here!\n",
    "        res = self.hidden2label(out[-1])\n",
    "        return torch.sigmoid(res)\n",
    "    "
   ]
  },
  {
   "cell_type": "markdown",
   "metadata": {},
   "source": [
    "[LSTM dource code](http://pytorch.org/docs/master/_modules/torch/nn/modules/rnn.html#LSTM)"
   ]
  },
  {
   "cell_type": "code",
   "execution_count": 22,
   "metadata": {},
   "outputs": [],
   "source": [
    "model = RNNClassifier(embedding_dim=n_emb,\n",
    "                       hidden_dim=n_hidden,\n",
    "                       vocab_size=vocab_size,\n",
    "                       label_size=1,\n",
    "                       batch_size=batch_size, \n",
    "                       rec_layer=nn.LSTM,\n",
    "                       dropout=None).to(device)"
   ]
  },
  {
   "cell_type": "code",
   "execution_count": 23,
   "metadata": {},
   "outputs": [],
   "source": [
    "optimizer = optim.RMSprop(model.parameters(), lr=learning_rate)\n",
    "lossfun = nn.BCELoss(reduction='sum')"
   ]
  },
  {
   "cell_type": "code",
   "execution_count": 24,
   "metadata": {},
   "outputs": [],
   "source": [
    "def train_epoch(train_loader, model, lossfun, optimizer, device):\n",
    "    model.train()\n",
    "    for it, traindata in enumerate(train_loader):\n",
    "        train_inputs, train_labels = traindata\n",
    "        train_inputs = train_inputs.to(device) \n",
    "        train_labels = train_labels.to(device)\n",
    "        train_labels = torch.squeeze(train_labels)\n",
    "\n",
    "        model.zero_grad()        \n",
    "        output = model(train_inputs.t()) # pay attention here!\n",
    "\n",
    "        loss = lossfun(output.view(-1), train_labels.float())\n",
    "        loss.backward()\n",
    "        optimizer.step()\n",
    "\n",
    "def evaluate(loader, model, lossfun, device):\n",
    "    model.eval()\n",
    "    total_acc = 0.0\n",
    "    total_loss = 0.0\n",
    "    total = 0.0\n",
    "    for it, data in enumerate(loader):\n",
    "        inputs, labels = data\n",
    "        inputs = inputs.to(device) \n",
    "        labels = labels.to(device)\n",
    "        labels = torch.squeeze(labels)\n",
    "\n",
    "        output = model(inputs.t()) # pay attention here!\n",
    "        loss = lossfun(output.view(-1), labels.float())\n",
    "        total_loss += loss.item()\n",
    "\n",
    "        # calc testing acc        \n",
    "        pred = output.view(-1) > 0.5\n",
    "        correct = pred == labels.bool()\n",
    "        total_acc += torch.sum(correct).item() / len(correct)\n",
    "\n",
    "    total = it + 1\n",
    "    return total_loss / total, total_acc / total\n",
    "    \n",
    "\n",
    "def train(train_loader, test_loader, model, lossfun, optimizer, \\\n",
    "          device, num_epochs):\n",
    "    train_loss_ = []\n",
    "    test_loss_ = []\n",
    "    train_acc_ = []\n",
    "    test_acc_ = []\n",
    "    for epoch in range(num_epochs):\n",
    "        train_epoch(train_loader, model, lossfun, optimizer, device)\n",
    "        train_loss, train_acc = evaluate(train_loader, model, lossfun, device)\n",
    "        train_loss_.append(train_loss)\n",
    "        train_acc_.append(train_acc)\n",
    "        test_loss, test_acc = evaluate(test_loader, model, lossfun, device)\n",
    "        test_loss_.append(test_loss)\n",
    "        test_acc_.append(test_acc)\n",
    "\n",
    "        print(f'Epoch: {epoch+1:3d}/{num_epochs:3d} '\n",
    "              f'Training Loss: {train_loss_[epoch]:.3f}, Testing Loss: {test_loss_[epoch]:.3f}, '\n",
    "              f'Training Acc: {train_acc_[epoch]:.3f}, Testing Acc: {test_acc_[epoch]:.3f}')\n",
    "\n",
    "    return train_loss_, train_acc_, test_loss_, test_acc_"
   ]
  },
  {
   "cell_type": "code",
   "execution_count": 26,
   "metadata": {},
   "outputs": [
    {
     "name": "stdout",
     "output_type": "stream",
     "text": [
      "Epoch:   1/ 30 Training Loss: 43.802, Testing Loss: 79.342, Training Acc: 0.851, Testing Acc: 0.714\n",
      "Epoch:   2/ 30 Training Loss: 40.148, Testing Loss: 78.565, Training Acc: 0.874, Testing Acc: 0.711\n",
      "Epoch:   3/ 30 Training Loss: 36.081, Testing Loss: 84.720, Training Acc: 0.885, Testing Acc: 0.712\n",
      "Epoch:   4/ 30 Training Loss: 34.386, Testing Loss: 89.910, Training Acc: 0.892, Testing Acc: 0.707\n",
      "Epoch:   5/ 30 Training Loss: 32.446, Testing Loss: 93.470, Training Acc: 0.899, Testing Acc: 0.700\n",
      "Epoch:   6/ 30 Training Loss: 28.454, Testing Loss: 100.271, Training Acc: 0.914, Testing Acc: 0.709\n",
      "Epoch:   7/ 30 Training Loss: 26.007, Testing Loss: 98.548, Training Acc: 0.925, Testing Acc: 0.707\n",
      "Epoch:   8/ 30 Training Loss: 24.852, Testing Loss: 108.762, Training Acc: 0.925, Testing Acc: 0.701\n",
      "Epoch:   9/ 30 Training Loss: 21.043, Testing Loss: 108.376, Training Acc: 0.942, Testing Acc: 0.707\n",
      "Epoch:  10/ 30 Training Loss: 19.584, Testing Loss: 110.469, Training Acc: 0.947, Testing Acc: 0.703\n",
      "Epoch:  11/ 30 Training Loss: 17.251, Testing Loss: 120.426, Training Acc: 0.954, Testing Acc: 0.704\n",
      "Epoch:  12/ 30 Training Loss: 15.591, Testing Loss: 123.750, Training Acc: 0.961, Testing Acc: 0.701\n",
      "Epoch:  13/ 30 Training Loss: 13.516, Testing Loss: 133.972, Training Acc: 0.967, Testing Acc: 0.701\n",
      "Epoch:  14/ 30 Training Loss: 12.223, Testing Loss: 146.415, Training Acc: 0.969, Testing Acc: 0.700\n",
      "Epoch:  15/ 30 Training Loss: 10.888, Testing Loss: 146.754, Training Acc: 0.974, Testing Acc: 0.699\n",
      "Epoch:  16/ 30 Training Loss: 9.428, Testing Loss: 152.065, Training Acc: 0.978, Testing Acc: 0.700\n",
      "Epoch:  17/ 30 Training Loss: 8.240, Testing Loss: 162.805, Training Acc: 0.981, Testing Acc: 0.698\n",
      "Epoch:  18/ 30 Training Loss: 9.682, Testing Loss: 162.732, Training Acc: 0.976, Testing Acc: 0.692\n",
      "Epoch:  19/ 30 Training Loss: 6.605, Testing Loss: 177.780, Training Acc: 0.987, Testing Acc: 0.697\n",
      "Epoch:  20/ 30 Training Loss: 5.968, Testing Loss: 183.228, Training Acc: 0.988, Testing Acc: 0.695\n",
      "Epoch:  21/ 30 Training Loss: 5.541, Testing Loss: 179.752, Training Acc: 0.989, Testing Acc: 0.693\n",
      "Epoch:  22/ 30 Training Loss: 4.649, Testing Loss: 197.069, Training Acc: 0.992, Testing Acc: 0.692\n",
      "Epoch:  23/ 30 Training Loss: 5.451, Testing Loss: 180.014, Training Acc: 0.990, Testing Acc: 0.690\n",
      "Epoch:  24/ 30 Training Loss: 4.643, Testing Loss: 193.071, Training Acc: 0.991, Testing Acc: 0.691\n",
      "Epoch:  25/ 30 Training Loss: 3.805, Testing Loss: 201.179, Training Acc: 0.994, Testing Acc: 0.691\n",
      "Epoch:  26/ 30 Training Loss: 3.251, Testing Loss: 221.225, Training Acc: 0.994, Testing Acc: 0.689\n",
      "Epoch:  27/ 30 Training Loss: 2.692, Testing Loss: 225.118, Training Acc: 0.995, Testing Acc: 0.690\n",
      "Epoch:  28/ 30 Training Loss: 2.944, Testing Loss: 221.358, Training Acc: 0.996, Testing Acc: 0.687\n",
      "Epoch:  29/ 30 Training Loss: 2.716, Testing Loss: 227.912, Training Acc: 0.995, Testing Acc: 0.688\n",
      "Epoch:  30/ 30 Training Loss: 2.587, Testing Loss: 228.509, Training Acc: 0.996, Testing Acc: 0.690\n",
      "Wall time: 3min 37s\n"
     ]
    }
   ],
   "source": [
    "%time a, b, c, d = train(train_loader, test_loader, model, lossfun, \\\n",
    "                   optimizer, device, num_epochs)"
   ]
  },
  {
   "cell_type": "markdown",
   "metadata": {},
   "source": [
    "Unregularized LSTM often overfits (and we see that test accuracy degrates). To overcome it, L2 regularization and droput are usually applied. But there are several ways how to apply dropout to gated RNNs, and not all of them work well. Please refer to this [blog post](https://medium.com/@bingobee01/a-review-of-dropout-as-applied-to-rnns-72e79ecd5b7b) for good review.\n",
    "\n",
    "We will implement three dropouts for LSTM. While doing so, we will see that for different methods we need to \"reveal\" the layer to the different \"depth\" (from black-box to implementing layer ourselves)."
   ]
  },
  {
   "cell_type": "markdown",
   "metadata": {},
   "source": [
    "### Dropout by (Gal and Ghahramani)\n",
    "\n",
    "Let's start with a dropout proposed by [Gal and Ghahramani](https://arxiv.org/abs/1512.05287).\n",
    "\n",
    "To implement it, we have to use nn.LSTMCell (processes 1 time step) instead of nn.LSTM (processes the whole input sequence). \n",
    "\n",
    "Complete class RNNLayer. With dropout=0 it has to work as usual LSTM, and with dropout > 0 it has to multiply the input and hidden vector by random binary mask, and this mask should be __the same for all time steps__.\n",
    "\n",
    "Formulas for this dropout (m denotes applying dropout):\n",
    "$$\n",
    "h_{t-1} = h_{t-1} \\odot m_h, \\, x_t = x_t \\odot m_x\n",
    "$$\n",
    "(after this, usual LSTM step goes)\n",
    "$$\n",
    "i = \\sigma(h_{t-1}W^i + x_t U^i+b_i) \\quad\n",
    "o = \\sigma(h_{t-1}W^o + x_t U^o+b_o) \n",
    "$$\n",
    "$$\n",
    "f = \\sigma(h_{t-1}W^f + x_t U^f+b_f) \\quad \n",
    "g = tanh(h_{t-1} W^g + x_t U^g+b_g) \n",
    "$$\n",
    "$$\n",
    "c_t = f \\odot c_{t-1} +  i \\odot  g \\quad\n",
    "h_t =  o \\odot tanh(c_t) \\nonumber\n",
    "$$"
   ]
  },
  {
   "cell_type": "code",
   "execution_count": 27,
   "metadata": {},
   "outputs": [],
   "source": [
    "def init_h0_c0(num_objects, hidden_size, some_existing_tensor):\n",
    "    \"\"\"\n",
    "    return h0 and c0, use some_existing_tensor.new_zeros() to gen them\n",
    "    h0 shape: num_objects x hidden_size\n",
    "    c0 shape: num_objects x hidden_size\n",
    "    \"\"\"\n",
    "    h0 = some_existing_tensor.new_zeros((num_objects , hidden_size))\n",
    "    c0 = some_existing_tensor.new_zeros((num_objects , hidden_size))\n",
    "    return h0 , c0\n",
    "    "
   ]
  },
  {
   "cell_type": "code",
   "execution_count": 42,
   "metadata": {},
   "outputs": [],
   "source": [
    "def gen_dropout_mask(input_size, hidden_size, is_training, p, some_existing_tensor):\n",
    "    \"\"\"\n",
    "    is_training: if True, gen masks from Bernoulli\n",
    "                 if False, gen masks consisting of (1-p)\n",
    "    \n",
    "    return two dropout masks of sizes (input_size, ), (hidden_size, )\n",
    "    if p is not None\n",
    "    return one masks if p is None\n",
    "    \"\"\"\n",
    "    if(is_training):\n",
    "        input_mask = some_existing_tensor.new_zeros((input_size)).bernoulli(p)\n",
    "        hidden_mask = some_existing_tensor.new_zeros((hidden_size)).bernoulli(p)\n",
    "    else:\n",
    "        input_mask = some_existing_tensor.new_zeros((input_size)).fill_(1 - p)\n",
    "        hidden_mask = some_existing_tensor.new_zeros((hidden_size)).fill_(1 - p)\n",
    "    if (p):\n",
    "        return input_mask, input_mask\n",
    "    else:\n",
    "        input_mask = some_existing_tensor.new_zeros((input_size)).bernoulli(1)\n",
    "        hidden_mask = some_existing_tensor.new_zeros((hidden_size)).bernoulli(1)\n",
    "        return input_mask, input_mask\n",
    "        \n",
    "    #...new_zeros(...).bernoulli(...)"
   ]
  },
  {
   "cell_type": "code",
   "execution_count": 43,
   "metadata": {},
   "outputs": [],
   "source": [
    "class RNNLayer(nn.Module):\n",
    "    def __init__(self, input_size, hidden_size, dropout=None):\n",
    "        super(RNNLayer, self).__init__()\n",
    "        self.hidden_size = hidden_size\n",
    "        self.input_size = input_size\n",
    "        self.dropout = dropout\n",
    "        self.rnn_cell = nn.LSTMCell(input_size, hidden_size)\n",
    "        \n",
    "    def forward(self, inp):\n",
    "        # initialize h_0, c_0\n",
    "        h_i, c_i = init_h0_c0(inp.shape[1], self.hidden_size, inp)\n",
    "        \n",
    "        # gen masks\n",
    "        input_mask, hidden_mask = gen_dropout_mask(self.input_size, \\\n",
    "                                                   self.hidden_size, \\\n",
    "                                                   self.training, \\\n",
    "                                                   self.dropout, \\\n",
    "                                                   inp)\n",
    "        \n",
    "        out = []\n",
    "        out.append(h_i)\n",
    "        for i in range (inp.shape[0]):\n",
    "            h_i , c_i = self.rnn_cell(inp[i] * input_mask , (h_i * hidden_mask , c_i) )\n",
    "            out.append(h_i)\n",
    "            h_i *= hidden_mask\n",
    "        return out , (h_i,c_i);\n",
    "        ### your code here\n",
    "        ### implement recurrent logic and return what nn.LSTM returns\n",
    "        ### do not forget to apply generated dropout masks!"
   ]
  },
  {
   "cell_type": "markdown",
   "metadata": {},
   "source": [
    "class RNNClassifier(nn.Module):\n",
    "    def __init__(self, embedding_dim, hidden_dim, vocab_size, label_size, \\\n",
    "                 batch_size, rec_layer=RNNLayer, embedding=nn.Embedding, \\\n",
    "                 dropout=None):\n",
    "        super(RNNClassifier, self).__init__()\n",
    "        self.hidden_dim = hidden_dim\n",
    "        self.batch_size = batch_size\n",
    "\n",
    "        self.word_embeddings = embedding(vocab_size, embedding_dim)\n",
    "        if dropout:\n",
    "            self.rnn = rec_layer(embedding_dim, hidden_dim, dropout=dropout)\n",
    "        else:\n",
    "            self.rnn = rec_layer(embedding_dim, hidden_dim)\n",
    "        self.hidden2label = nn.Linear(hidden_dim, label_size)\n",
    "    \n",
    "    def forward(self, sentences):\n",
    "        embedding = self.word_embeddings(sentences)\n",
    "        out, hidden = self.rnn(embedding) # pay attention here!\n",
    "        res = self.hidden2label(out[-1])\n",
    "        return torch.sigmoid(res)"
   ]
  },
  {
   "cell_type": "code",
   "execution_count": 44,
   "metadata": {},
   "outputs": [],
   "source": [
    "model = RNNClassifier(embedding_dim=n_emb,\n",
    "                       hidden_dim=n_hidden,\n",
    "                       vocab_size=vocab_size,\n",
    "                       label_size=1,\n",
    "                       batch_size=batch_size, \n",
    "                       rec_layer=RNNLayer,\n",
    "                       dropout=0.5).to(device)\n"
   ]
  },
  {
   "cell_type": "markdown",
   "metadata": {},
   "source": [
    "Test your implementation with dropout turned off (pass RNNLayer to RNNClassifier as rec_layer). Measure the training time (%time). Does it differ from training time of nn.LSTM?"
   ]
  },
  {
   "cell_type": "code",
   "execution_count": 45,
   "metadata": {},
   "outputs": [
    {
     "name": "stdout",
     "output_type": "stream",
     "text": [
      "Epoch:   1/ 30 Training Loss: 88.427, Testing Loss: 88.432, Training Acc: 0.504, Testing Acc: 0.502\n",
      "Epoch:   2/ 30 Training Loss: 88.427, Testing Loss: 88.432, Training Acc: 0.504, Testing Acc: 0.502\n",
      "Epoch:   3/ 30 Training Loss: 88.427, Testing Loss: 88.432, Training Acc: 0.504, Testing Acc: 0.502\n",
      "Epoch:   4/ 30 Training Loss: 88.427, Testing Loss: 88.432, Training Acc: 0.504, Testing Acc: 0.501\n",
      "Epoch:   5/ 30 Training Loss: 88.427, Testing Loss: 88.432, Training Acc: 0.504, Testing Acc: 0.502\n",
      "Epoch:   6/ 30 Training Loss: 88.427, Testing Loss: 88.432, Training Acc: 0.504, Testing Acc: 0.502\n",
      "Epoch:   7/ 30 Training Loss: 88.427, Testing Loss: 88.432, Training Acc: 0.504, Testing Acc: 0.501\n"
     ]
    },
    {
     "ename": "KeyboardInterrupt",
     "evalue": "",
     "output_type": "error",
     "traceback": [
      "\u001b[1;31m---------------------------------------------------------------------------\u001b[0m",
      "\u001b[1;31mKeyboardInterrupt\u001b[0m                         Traceback (most recent call last)",
      "\u001b[1;32m<timed exec>\u001b[0m in \u001b[0;36m<module>\u001b[1;34m\u001b[0m\n",
      "\u001b[1;32m<ipython-input-24-0ff5f8ab7c17>\u001b[0m in \u001b[0;36mtrain\u001b[1;34m(train_loader, test_loader, model, lossfun, optimizer, device, num_epochs)\u001b[0m\n\u001b[0;32m     45\u001b[0m     \u001b[0mtest_acc_\u001b[0m \u001b[1;33m=\u001b[0m \u001b[1;33m[\u001b[0m\u001b[1;33m]\u001b[0m\u001b[1;33m\u001b[0m\u001b[1;33m\u001b[0m\u001b[0m\n\u001b[0;32m     46\u001b[0m     \u001b[1;32mfor\u001b[0m \u001b[0mepoch\u001b[0m \u001b[1;32min\u001b[0m \u001b[0mrange\u001b[0m\u001b[1;33m(\u001b[0m\u001b[0mnum_epochs\u001b[0m\u001b[1;33m)\u001b[0m\u001b[1;33m:\u001b[0m\u001b[1;33m\u001b[0m\u001b[1;33m\u001b[0m\u001b[0m\n\u001b[1;32m---> 47\u001b[1;33m         \u001b[0mtrain_epoch\u001b[0m\u001b[1;33m(\u001b[0m\u001b[0mtrain_loader\u001b[0m\u001b[1;33m,\u001b[0m \u001b[0mmodel\u001b[0m\u001b[1;33m,\u001b[0m \u001b[0mlossfun\u001b[0m\u001b[1;33m,\u001b[0m \u001b[0moptimizer\u001b[0m\u001b[1;33m,\u001b[0m \u001b[0mdevice\u001b[0m\u001b[1;33m)\u001b[0m\u001b[1;33m\u001b[0m\u001b[1;33m\u001b[0m\u001b[0m\n\u001b[0m\u001b[0;32m     48\u001b[0m         \u001b[0mtrain_loss\u001b[0m\u001b[1;33m,\u001b[0m \u001b[0mtrain_acc\u001b[0m \u001b[1;33m=\u001b[0m \u001b[0mevaluate\u001b[0m\u001b[1;33m(\u001b[0m\u001b[0mtrain_loader\u001b[0m\u001b[1;33m,\u001b[0m \u001b[0mmodel\u001b[0m\u001b[1;33m,\u001b[0m \u001b[0mlossfun\u001b[0m\u001b[1;33m,\u001b[0m \u001b[0mdevice\u001b[0m\u001b[1;33m)\u001b[0m\u001b[1;33m\u001b[0m\u001b[1;33m\u001b[0m\u001b[0m\n\u001b[0;32m     49\u001b[0m         \u001b[0mtrain_loss_\u001b[0m\u001b[1;33m.\u001b[0m\u001b[0mappend\u001b[0m\u001b[1;33m(\u001b[0m\u001b[0mtrain_loss\u001b[0m\u001b[1;33m)\u001b[0m\u001b[1;33m\u001b[0m\u001b[1;33m\u001b[0m\u001b[0m\n",
      "\u001b[1;32m<ipython-input-24-0ff5f8ab7c17>\u001b[0m in \u001b[0;36mtrain_epoch\u001b[1;34m(train_loader, model, lossfun, optimizer, device)\u001b[0m\n\u001b[0;32m     11\u001b[0m \u001b[1;33m\u001b[0m\u001b[0m\n\u001b[0;32m     12\u001b[0m         \u001b[0mloss\u001b[0m \u001b[1;33m=\u001b[0m \u001b[0mlossfun\u001b[0m\u001b[1;33m(\u001b[0m\u001b[0moutput\u001b[0m\u001b[1;33m.\u001b[0m\u001b[0mview\u001b[0m\u001b[1;33m(\u001b[0m\u001b[1;33m-\u001b[0m\u001b[1;36m1\u001b[0m\u001b[1;33m)\u001b[0m\u001b[1;33m,\u001b[0m \u001b[0mtrain_labels\u001b[0m\u001b[1;33m.\u001b[0m\u001b[0mfloat\u001b[0m\u001b[1;33m(\u001b[0m\u001b[1;33m)\u001b[0m\u001b[1;33m)\u001b[0m\u001b[1;33m\u001b[0m\u001b[1;33m\u001b[0m\u001b[0m\n\u001b[1;32m---> 13\u001b[1;33m         \u001b[0mloss\u001b[0m\u001b[1;33m.\u001b[0m\u001b[0mbackward\u001b[0m\u001b[1;33m(\u001b[0m\u001b[1;33m)\u001b[0m\u001b[1;33m\u001b[0m\u001b[1;33m\u001b[0m\u001b[0m\n\u001b[0m\u001b[0;32m     14\u001b[0m         \u001b[0moptimizer\u001b[0m\u001b[1;33m.\u001b[0m\u001b[0mstep\u001b[0m\u001b[1;33m(\u001b[0m\u001b[1;33m)\u001b[0m\u001b[1;33m\u001b[0m\u001b[1;33m\u001b[0m\u001b[0m\n\u001b[0;32m     15\u001b[0m \u001b[1;33m\u001b[0m\u001b[0m\n",
      "\u001b[1;32mC:\\Apps\\anaconda3\\lib\\site-packages\\torch\\tensor.py\u001b[0m in \u001b[0;36mbackward\u001b[1;34m(self, gradient, retain_graph, create_graph)\u001b[0m\n\u001b[0;32m    116\u001b[0m                 \u001b[0mproducts\u001b[0m\u001b[1;33m.\u001b[0m \u001b[0mDefaults\u001b[0m \u001b[0mto\u001b[0m\u001b[0;31m \u001b[0m\u001b[0;31m`\u001b[0m\u001b[0;31m`\u001b[0m\u001b[1;32mFalse\u001b[0m\u001b[0;31m`\u001b[0m\u001b[0;31m`\u001b[0m\u001b[1;33m.\u001b[0m\u001b[1;33m\u001b[0m\u001b[1;33m\u001b[0m\u001b[0m\n\u001b[0;32m    117\u001b[0m         \"\"\"\n\u001b[1;32m--> 118\u001b[1;33m         \u001b[0mtorch\u001b[0m\u001b[1;33m.\u001b[0m\u001b[0mautograd\u001b[0m\u001b[1;33m.\u001b[0m\u001b[0mbackward\u001b[0m\u001b[1;33m(\u001b[0m\u001b[0mself\u001b[0m\u001b[1;33m,\u001b[0m \u001b[0mgradient\u001b[0m\u001b[1;33m,\u001b[0m \u001b[0mretain_graph\u001b[0m\u001b[1;33m,\u001b[0m \u001b[0mcreate_graph\u001b[0m\u001b[1;33m)\u001b[0m\u001b[1;33m\u001b[0m\u001b[1;33m\u001b[0m\u001b[0m\n\u001b[0m\u001b[0;32m    119\u001b[0m \u001b[1;33m\u001b[0m\u001b[0m\n\u001b[0;32m    120\u001b[0m     \u001b[1;32mdef\u001b[0m \u001b[0mregister_hook\u001b[0m\u001b[1;33m(\u001b[0m\u001b[0mself\u001b[0m\u001b[1;33m,\u001b[0m \u001b[0mhook\u001b[0m\u001b[1;33m)\u001b[0m\u001b[1;33m:\u001b[0m\u001b[1;33m\u001b[0m\u001b[1;33m\u001b[0m\u001b[0m\n",
      "\u001b[1;32mC:\\Apps\\anaconda3\\lib\\site-packages\\torch\\autograd\\__init__.py\u001b[0m in \u001b[0;36mbackward\u001b[1;34m(tensors, grad_tensors, retain_graph, create_graph, grad_variables)\u001b[0m\n\u001b[0;32m     91\u001b[0m     Variable._execution_engine.run_backward(\n\u001b[0;32m     92\u001b[0m         \u001b[0mtensors\u001b[0m\u001b[1;33m,\u001b[0m \u001b[0mgrad_tensors\u001b[0m\u001b[1;33m,\u001b[0m \u001b[0mretain_graph\u001b[0m\u001b[1;33m,\u001b[0m \u001b[0mcreate_graph\u001b[0m\u001b[1;33m,\u001b[0m\u001b[1;33m\u001b[0m\u001b[1;33m\u001b[0m\u001b[0m\n\u001b[1;32m---> 93\u001b[1;33m         allow_unreachable=True)  # allow_unreachable flag\n\u001b[0m\u001b[0;32m     94\u001b[0m \u001b[1;33m\u001b[0m\u001b[0m\n\u001b[0;32m     95\u001b[0m \u001b[1;33m\u001b[0m\u001b[0m\n",
      "\u001b[1;31mKeyboardInterrupt\u001b[0m: "
     ]
    }
   ],
   "source": [
    "%time a, b, c, d = train(train_loader, test_loader, model, lossfun, \\\n",
    "                   optimizer, device, num_epochs)"
   ]
  },
  {
   "cell_type": "markdown",
   "metadata": {},
   "source": [
    "Test your implementation with dropout=0.5 again measuring the training time. Does the model still overfit? Does the training take more time than training without dropout? (additional time is spent for mask generating)"
   ]
  },
  {
   "cell_type": "code",
   "execution_count": null,
   "metadata": {
    "collapsed": true
   },
   "outputs": [],
   "source": []
  },
  {
   "cell_type": "markdown",
   "metadata": {},
   "source": [
    "### Dropout by (Gal and Ghahramani). Second try"
   ]
  },
  {
   "cell_type": "markdown",
   "metadata": {},
   "source": [
    "< start hacking pytorch >"
   ]
  },
  {
   "cell_type": "markdown",
   "metadata": {},
   "source": [
    "When you unroll the time  cycle in python, training slows down. But there is the way how to implement dropout by (Gal and Ghahramani) without modifying computational graph and modifying only weights of the network. This allows using nn.LSTM instead of nn.LSTMCell. Before calling nn.LSTM, you should replace its weights with the weights where some rows are multiplied by 0. Of course, in this case you have to store the trainable weights separately. This is the way how this dropout is implementd in FastAI library, which code  is used in the cell below.\n",
    "\n",
    "Complete the class:"
   ]
  },
  {
   "cell_type": "code",
   "execution_count": null,
   "metadata": {
    "collapsed": true
   },
   "outputs": [],
   "source": [
    "import warnings"
   ]
  },
  {
   "cell_type": "code",
   "execution_count": null,
   "metadata": {},
   "outputs": [],
   "source": [
    "def LSTMcell(in_put, (hx , cx) ):\n",
    "    return "
   ]
  },
  {
   "cell_type": "code",
   "execution_count": null,
   "metadata": {
    "collapsed": true
   },
   "outputs": [],
   "source": [
    "class FastRNNLayer(nn.Module):\n",
    "    def __init__(self, input_size, hidden_size, dropout=0):\n",
    "        super(FastRNNLayer, self).__init__()\n",
    "        self.module = nn.LSTM(input_size, hidden_size)\n",
    "        self.dropout = dropout\n",
    "        self.layer_names = ['weight_hh_l0', 'weight_ih_l0']\n",
    "        for layer in self.layer_names:\n",
    "            # Makes a copy of the weights of the selected layers.\n",
    "            w = getattr(self.module, layer)\n",
    "            self.register_parameter(f'{layer}_raw', nn.Parameter(w.data))\n",
    "            \n",
    "    def _setweights(self):\n",
    "        #\"Apply dropout to the raw weight\n",
    "        # gen masks\n",
    "        input_mask, hidden_mask = gen_dropout_mask(self.input_size, \\\n",
    "                                                   self.hidden_size, \\\n",
    "                                                   self.training, \\\n",
    "                                                   self.dropout, \\\n",
    "                                                   inp)\n",
    "        \n",
    "        \n",
    "        for layer, mask in zip(self.layer_names, (hidden_mask, input_mask)):\n",
    "            raw_w = getattr(self, f'{layer}_raw')\n",
    "            self.module._parameters[layer] = raw_w * mask\n",
    "\n",
    "    def forward(self, *args):\n",
    "        with warnings.catch_warnings():\n",
    "            # To avoid the warning that comes because the weights aren't flattened.\n",
    "            warnings.simplefilter(\"ignore\")\n",
    "            \n",
    "            ### your code here\n",
    "            ### set new weights of self.module and call its forward\n",
    "        out = []\n",
    "        out.append(h_i)\n",
    "        for i in range (inp.shape[0]):\n",
    "            h_i , c_i = self.rnn_cell(inp[i] * input_mask , (h_i * hidden_mask , c_i) )\n",
    "            out.append(h_i)\n",
    "            h_i *= hidden_mask\n",
    "        return out , (h_i,c_i);\n",
    "\n",
    "    def reset(self):\n",
    "        if hasattr(self.module, 'reset'): self.module.reset()"
   ]
  },
  {
   "cell_type": "markdown",
   "metadata": {},
   "source": [
    "Test your implementation (again passing FastRNNLayer as a rec_layer) with dropout = 0.5. Compare training time with previous models. The test accuracy and other training metrics should be the same as with previous implementaton."
   ]
  },
  {
   "cell_type": "code",
   "execution_count": null,
   "metadata": {
    "collapsed": true
   },
   "outputs": [],
   "source": []
  },
  {
   "cell_type": "markdown",
   "metadata": {},
   "source": [
    "< end hacking pytorch >"
   ]
  },
  {
   "cell_type": "markdown",
   "metadata": {},
   "source": [
    "### Dropout by (Semeniuta et al)\n",
    "Now let's turn to implementing dropout proposed by [Semeniuta et al](http://www.aclweb.org/anthology/C16-1165). \n",
    "\n",
    "This method is even more popular than the previous one. It is developed specifically for _gated_ recurrent architectures. For LSTM, this dropout applies dropout only to information flow ($m_h$ is a dropout mask):\n",
    "$$\n",
    "i = \\sigma(h_{t-1}W^i + x_t U^i+b_i) \\quad\n",
    "o = \\sigma(h_{t-1}W^o + x_t U^o+b_o) \n",
    "$$\n",
    "$$\n",
    "f = \\sigma(h_{t-1}W^f + x_t U^f+b_f) \\quad \n",
    "g = tanh(h_{t-1} W^g + x_t U^g+b_g) \n",
    "$$\n",
    "$$\n",
    "c_t = f \\odot c_{t-1} +  i \\odot g \\odot {\\bf m_h} \\quad\n",
    "h_t =  o \\odot tanh(c_t) \\nonumber\n",
    "$$\n",
    "For $x_t$, the mask is put in the same way as in (Gal and Ghahramani). By the way, you can apply this mask before passing tensor to LSTM layer.\n",
    "\n",
    "According to the paper, the mask can be the same for all moments of the time but may also be  different. We will use the same mask.\n",
    "\n",
    "To implement this dropout, you have to implement LSTM by yourself (interface of LSTMCell is not enough as you should work with LSTM logics). Complete the class:"
   ]
  },
  {
   "cell_type": "code",
   "execution_count": null,
   "metadata": {},
   "outputs": [],
   "source": []
  },
  {
   "cell_type": "code",
   "execution_count": null,
   "metadata": {
    "collapsed": true
   },
   "outputs": [],
   "source": [
    "class HandmadeLSTM(nn.Module):\n",
    "    def __init__(self, input_size, hidden_size, dropout=0.):\n",
    "        super(HandmadeLSTM, self).__init__()\n",
    "        self.input_size = input_size\n",
    "        self.hidden_size = hidden_size\n",
    "        self.dropout = dropout\n",
    "        self.input_weights = nn.Linear(input_size, 4 * hidden_size)\n",
    "        self.hidden_weights = nn.Linear(hidden_size, 4 * hidden_size)\n",
    "        \n",
    "        self.reset_params()\n",
    "\n",
    "\n",
    "    def reset_params(self):\n",
    "        \"\"\"\n",
    "        initialization as in Pytorch\n",
    "        do not forget to call this method!\n",
    "        \"\"\"\n",
    "        stdv = 1.0 / np.sqrt(self.hidden_size)\n",
    "        for weight in self.parameters():\n",
    "            weight.data.uniform_(0, stdv)\n",
    "            \n",
    "\n",
    "    def forward(self, inp, hidden=None):\n",
    "        def lstmcell (inp , hidden):\n",
    "            hx , cx = hidden\n",
    "            inp = inp * input_mask  \n",
    "            i , f , g , o = (self.input_weights(inp) ).chunck(4 , dim = 1)\n",
    "    \n",
    "    \n",
    "            return h_x , c_x\n",
    "        ### your code here\n",
    "        # use functions init_h0_c0 and gen_dropout_masks defined above\n",
    "        out = []\n",
    "        out.append(h_i)\n",
    "        for i in range (inp.shape[0]):\n",
    "            h_i , c_i = lstmcell(inp[i] * input_mask , (h_i * hidden_mask , c_i) )\n",
    "            out.append(h_i)\n",
    "            h_i *= hidden_mask\n",
    "        return out , (h_i,c_i);"
   ]
  },
  {
   "cell_type": "markdown",
   "metadata": {},
   "source": [
    "Test your implementation without dropout (controlthe quality and compare the training time with nn.LSTM) and with dropout=0.5. Copare the quality with the model trained with the previous dropout."
   ]
  },
  {
   "cell_type": "code",
   "execution_count": null,
   "metadata": {
    "collapsed": true
   },
   "outputs": [],
   "source": []
  },
  {
   "cell_type": "code",
   "execution_count": null,
   "metadata": {
    "collapsed": true
   },
   "outputs": [],
   "source": []
  },
  {
   "cell_type": "code",
   "execution_count": null,
   "metadata": {
    "collapsed": true
   },
   "outputs": [],
   "source": []
  },
  {
   "cell_type": "markdown",
   "metadata": {
    "collapsed": true
   },
   "source": [
    "### Zoneout\n",
    "In Zoneout, at each time step you update the hidden state with probability p and hold it the same with probability 1-p. Formulas for Zoneout:\n",
    " \n",
    "(firstly usual time step goes, e. g. LSTM)\n",
    "$$\n",
    "i = \\sigma(h_{t-1}W^i + x_t U^i+b_i) \\quad\n",
    "o = \\sigma(h_{t-1}W^o + x_t U^o+b_o) \n",
    "$$\n",
    "$$\n",
    "f = \\sigma(h_{t-1}W^f + x_t U^f+b_f) \\quad \n",
    "g = tanh(h_{t-1} W^g + x_t U^g+b_g) \n",
    "$$\n",
    "$$\n",
    "c_t = f \\odot c_{t-1} +  i \\odot  g \\quad\n",
    "h_t =  o \\odot tanh(c_t) \\nonumber\n",
    "$$\n",
    "Then apply Zoneout:\n",
    "$$\n",
    "h_t = h_t \\odot m_h^t + h_{t-1}\\odot(1-m_h^t)\n",
    "$$\n",
    "In this method, the mask should be different at different moments of the time (otherwise the method simplifies to the dropout by (Gal and Ghahramani)). For x_t you can apply dropout before using LSTM layer.\n",
    "\n",
    "If you have time left, you may implement this method. Choose one of three our implementations as a base."
   ]
  },
  {
   "cell_type": "code",
   "execution_count": null,
   "metadata": {
    "collapsed": true
   },
   "outputs": [],
   "source": []
  }
 ],
 "metadata": {
  "kernelspec": {
   "display_name": "Python 3",
   "language": "python",
   "name": "python3"
  },
  "language_info": {
   "codemirror_mode": {
    "name": "ipython",
    "version": 3
   },
   "file_extension": ".py",
   "mimetype": "text/x-python",
   "name": "python",
   "nbconvert_exporter": "python",
   "pygments_lexer": "ipython3",
   "version": "3.6.8"
  },
  "varInspector": {
   "cols": {
    "lenName": 16,
    "lenType": 16,
    "lenVar": 40
   },
   "kernels_config": {
    "python": {
     "delete_cmd_postfix": "",
     "delete_cmd_prefix": "del ",
     "library": "var_list.py",
     "varRefreshCmd": "print(var_dic_list())"
    },
    "r": {
     "delete_cmd_postfix": ") ",
     "delete_cmd_prefix": "rm(",
     "library": "var_list.r",
     "varRefreshCmd": "cat(var_dic_list()) "
    }
   },
   "position": {
    "height": "313px",
    "left": "926px",
    "right": "27px",
    "top": "120px",
    "width": "343px"
   },
   "types_to_exclude": [
    "module",
    "function",
    "builtin_function_or_method",
    "instance",
    "_Feature"
   ],
   "window_display": false
  }
 },
 "nbformat": 4,
 "nbformat_minor": 2
}
